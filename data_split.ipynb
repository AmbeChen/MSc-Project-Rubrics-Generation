{
 "cells": [
  {
   "cell_type": "code",
   "execution_count": 5,
   "id": "3c22984e",
   "metadata": {},
   "outputs": [],
   "source": [
    "import json, os\n",
    "from tqdm import tqdm\n",
    "import random\n",
    "import pandas as pd"
   ]
  },
  {
   "cell_type": "code",
   "execution_count": 6,
   "id": "ec062a6c",
   "metadata": {},
   "outputs": [],
   "source": [
    "os.makedirs(\"outputs/splits/valid\", exist_ok=True)\n",
    "os.makedirs(\"outputs/splits/train\", exist_ok=True)\n",
    "os.makedirs(\"outputs/splits/test\", exist_ok=True)"
   ]
  },
  {
   "cell_type": "code",
   "execution_count": 7,
   "id": "3cced61f",
   "metadata": {},
   "outputs": [
    {
     "name": "stderr",
     "output_type": "stream",
     "text": [
      "🔍 Checking valid rubrics: 100%|██████████| 2735/2735 [00:00<00:00, 55943.14it/s]\n"
     ]
    }
   ],
   "source": [
    "# Step 1: Define paths\n",
    "original_filtered_path = \"outputs/filtered/rubrics_8_15.jsonl\"\n",
    "rubrics_dir = \"outputs/rubrics\"\n",
    "\n",
    "# Step 2: Load original filtered data (2735 items)\n",
    "with open(original_filtered_path, \"r\") as f:\n",
    "    all_data = [json.loads(line) for line in f]\n",
    "\n",
    "# Step 3: Find valid rubrics (rubrics_{i}.json exists and not empty or [{}])\n",
    "valid_data = []\n",
    "invalid_indices = []\n",
    "\n",
    "for idx, example in enumerate(tqdm(all_data, desc=\"🔍 Checking valid rubrics\")):\n",
    "    rubrics_path = f\"{rubrics_dir}/rubrics_{idx}.json\"\n",
    "    try:\n",
    "        with open(rubrics_path, \"r\") as f:\n",
    "            rubrics = json.load(f)\n",
    "        if isinstance(rubrics, list) and any(r and isinstance(r, dict) for r in rubrics):\n",
    "            valid_data.append((idx, example))\n",
    "        else:\n",
    "            invalid_indices.append(idx)\n",
    "    except:\n",
    "        invalid_indices.append(idx)\n",
    "\n",
    "# Save valid data and indices\n",
    "with open(\"outputs/splits/valid/valid_data.jsonl\", \"w\") as f:\n",
    "    for idx, item in valid_data:\n",
    "        f.write(json.dumps(item, ensure_ascii=False) + \"\\n\")\n",
    "\n",
    "with open(\"outputs/splits/valid/valid_indices.json\", \"w\") as f:\n",
    "    json.dump([idx for idx, _ in valid_data], f)\n",
    "\n",
    "\n"
   ]
  },
  {
   "cell_type": "code",
   "execution_count": 9,
   "id": "b56889c5",
   "metadata": {},
   "outputs": [
    {
     "name": "stdout",
     "output_type": "stream",
     "text": [
      "     Split  Count\n",
      "0    Train   1861\n",
      "1     Test    500\n",
      "2    Valid   2361\n",
      "3  Invalid    374\n"
     ]
    }
   ],
   "source": [
    "# Shuffle and split\n",
    "random.seed(42)\n",
    "random.shuffle(valid_data)\n",
    "\n",
    "test_size = 500\n",
    "test_data = valid_data[:test_size]\n",
    "train_data = valid_data[test_size:]\n",
    "\n",
    "# Save split\n",
    "with open(\"outputs/splits/train/train_data.jsonl\", \"w\") as f:\n",
    "    for idx, item in train_data:\n",
    "        f.write(json.dumps(item, ensure_ascii=False) + \"\\n\")\n",
    "\n",
    "with open(\"outputs/splits/test/test_data.jsonl\", \"w\") as f:\n",
    "    for idx, item in test_data:\n",
    "        f.write(json.dumps(item, ensure_ascii=False) + \"\\n\")\n",
    "\n",
    "# Save indices for tracking\n",
    "with open(\"outputs/splits/train/train_indices.json\", \"w\") as f:\n",
    "    json.dump([idx for idx, _ in train_data], f)\n",
    "\n",
    "with open(\"outputs/splits/test/test_indices.json\", \"w\") as f:\n",
    "    json.dump([idx for idx, _ in test_data], f)\n",
    "\n",
    "\n",
    "df_summary = pd.DataFrame({\n",
    "    \"Split\": [\"Train\", \"Test\", \"Valid\", \"Invalid\"],\n",
    "    \"Count\": [len(train_data), len(test_data), len(valid_data), len(invalid_indices)]\n",
    "})\n",
    "\n",
    "print(df_summary) "
   ]
  }
 ],
 "metadata": {
  "kernelspec": {
   "display_name": "Python (rubrics)",
   "language": "python",
   "name": "rubrics"
  },
  "language_info": {
   "codemirror_mode": {
    "name": "ipython",
    "version": 3
   },
   "file_extension": ".py",
   "mimetype": "text/x-python",
   "name": "python",
   "nbconvert_exporter": "python",
   "pygments_lexer": "ipython3",
   "version": "3.10.18"
  }
 },
 "nbformat": 4,
 "nbformat_minor": 5
}
