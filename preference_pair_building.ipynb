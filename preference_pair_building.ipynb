{
 "cells": [
  {
   "cell_type": "code",
   "execution_count": 1,
   "id": "0d263c36",
   "metadata": {},
   "outputs": [],
   "source": [
    "import os\n",
    "import json\n",
    "from tqdm import tqdm"
   ]
  },
  {
   "cell_type": "code",
   "execution_count": 5,
   "id": "674d6336",
   "metadata": {},
   "outputs": [],
   "source": [
    "# Input paths\n",
    "rubrics_dir = \"outputs/rubrics\"\n",
    "ref_dir = \"outputs/ref_rubrics\"\n",
    "prompt_dir = \"outputs/prompts\"\n",
    "\n",
    "# Read the list of conversation_id in the training set\n",
    "with open(\"outputs/splits/train/train_indices.json\") as f:\n",
    "    train_indices = json.load(f)\n",
    "    \n",
    "# Output file \n",
    "output_path = \"outputs/dpo_pairs/rubrics_preference_pairs.jsonl\"\n",
    "os.makedirs(os.path.dirname(output_path), exist_ok=True)"
   ]
  },
  {
   "cell_type": "code",
   "execution_count": 6,
   "id": "dbebea44",
   "metadata": {},
   "outputs": [
    {
     "name": "stderr",
     "output_type": "stream",
     "text": [
      "🔧 Building DPO pairs:   0%|          | 0/1861 [00:00<?, ?it/s]"
     ]
    },
    {
     "name": "stderr",
     "output_type": "stream",
     "text": [
      "🔧 Building DPO pairs: 100%|██████████| 1861/1861 [00:00<00:00, 6060.28it/s]"
     ]
    },
    {
     "name": "stdout",
     "output_type": "stream",
     "text": [
      "\n",
      "✅ Saved 1861 DPO preference pairs to outputs/dpo_pairs/rubrics_preference_pairs.jsonl\n",
      "❌ Skipped 0 examples due to missing or empty files.\n"
     ]
    },
    {
     "name": "stderr",
     "output_type": "stream",
     "text": [
      "\n"
     ]
    }
   ],
   "source": [
    "count = 0\n",
    "skipped = 0\n",
    "\n",
    "with open(output_path, \"w\") as writer:\n",
    "    for i in tqdm(train_indices, desc=\"🔧 Building DPO pairs\"):\n",
    "        # Check file existence\n",
    "        gen_path = os.path.join(rubrics_dir, f\"rubrics_{i}.json\")\n",
    "        ref_path = os.path.join(ref_dir, f\"ref_rubrics_{i}.json\")\n",
    "        conv_path = os.path.join(prompt_dir, f\"conversation_{i}.txt\")\n",
    "        refinfo_path = os.path.join(prompt_dir, f\"reference_{i}.txt\")\n",
    "\n",
    "        if not (os.path.exists(gen_path) and os.path.exists(ref_path) and os.path.exists(conv_path)):\n",
    "            skipped += 1\n",
    "            continue\n",
    "\n",
    "        # Load conversation\n",
    "        with open(conv_path) as f:\n",
    "            conversation = f.read().strip()\n",
    "\n",
    "        # Optional: Add reference info to prompt if exists\n",
    "        reference_info = \"\"\n",
    "        if os.path.exists(refinfo_path):\n",
    "            with open(refinfo_path) as f:\n",
    "                reference_info = f.read().strip()\n",
    "        \n",
    "        # Prompt = conversation + reference\n",
    "        prompt = f\"Conversation:\\n{conversation}\\n\\nReference Info:\\n{reference_info}\"\n",
    "\n",
    "        # Load rubrics\n",
    "        with open(ref_path) as f:\n",
    "            reference_rubrics = json.load(f)\n",
    "\n",
    "        with open(gen_path) as f:\n",
    "            generated_rubrics = json.load(f)\n",
    "\n",
    "        # Filter out empty generated rubrics\n",
    "        if not isinstance(generated_rubrics, list) or len(generated_rubrics) == 0 or all(r == {} for r in generated_rubrics):\n",
    "            skipped += 1\n",
    "            continue\n",
    "\n",
    "        # Format rubrics as text\n",
    "        def format_rubrics(rubrics):\n",
    "            lines = []\n",
    "            for r in rubrics:\n",
    "                if isinstance(r, dict) and \"criterion\" in r:\n",
    "                    criterion = r[\"criterion\"]\n",
    "                    # get points\n",
    "                    point = r.get(\"point\", r.get(\"points\", None))\n",
    "                    # get axis （tags / axis）\n",
    "                    tags = r.get(\"tags\", [])\n",
    "                    axis = next((tag.split(\":\")[1] for tag in tags if tag.startswith(\"axis:\")), r.get(\"axis\", None))\n",
    "\n",
    "                    if point is not None and axis is not None:\n",
    "                        lines.append(f\"- Criterion: {criterion}\\n  Axis: {axis}\\n  Point: {point}\")\n",
    "            return \"\\n\".join(lines)\n",
    "\n",
    "\n",
    "        ref_text = format_rubrics(reference_rubrics)\n",
    "        gen_text = format_rubrics(generated_rubrics)\n",
    "\n",
    "        # Write DPO pair\n",
    "        writer.write(json.dumps({\n",
    "            \"prompt\": prompt,\n",
    "            \"chosen\": ref_text,\n",
    "            \"rejected\": gen_text\n",
    "        }, ensure_ascii=False) + \"\\n\")\n",
    "\n",
    "        count += 1\n",
    "\n",
    "print(f\"\\n✅ Saved {count} DPO preference pairs to {output_path}\")\n",
    "print(f\"❌ Skipped {skipped} examples due to missing or empty files.\")\n",
    "\n"
   ]
  }
 ],
 "metadata": {
  "kernelspec": {
   "display_name": "Python (rubrics)",
   "language": "python",
   "name": "rubrics"
  },
  "language_info": {
   "codemirror_mode": {
    "name": "ipython",
    "version": 3
   },
   "file_extension": ".py",
   "mimetype": "text/x-python",
   "name": "python",
   "nbconvert_exporter": "python",
   "pygments_lexer": "ipython3",
   "version": "3.10.18"
  }
 },
 "nbformat": 4,
 "nbformat_minor": 5
}
